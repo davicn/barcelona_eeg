{
 "cells": [
  {
   "cell_type": "markdown",
   "metadata": {},
   "source": [
    "# Conversão de .txt para .parquet\n",
    "# Particionamento por segundo"
   ]
  },
  {
   "cell_type": "code",
   "execution_count": 1,
   "metadata": {},
   "outputs": [],
   "source": [
    "import pandas as pd\n",
    "import os"
   ]
  },
  {
   "cell_type": "code",
   "execution_count": 2,
   "metadata": {},
   "outputs": [],
   "source": [
    "# Listando arquivos\n",
    "\n",
    "files = []\n",
    "\n",
    "for x in os.listdir(path='../data/raw/'):\n",
    "    if x.endswith(\".txt\"):\n",
    "        files.append(x)"
   ]
  },
  {
   "cell_type": "code",
   "execution_count": 3,
   "metadata": {},
   "outputs": [],
   "source": [
    "import logging\n",
    "\n",
    "logger = logging.getLogger()\n",
    "\n",
    "def pipeline(file:str, seconds:list)-> None:\n",
    "    name = file.replace('.txt','')\n",
    "    \n",
    "    df = pd.read_csv(\n",
    "        filepath_or_buffer=f'../data/raw/{file}', \n",
    "        names=['x','y'],\n",
    "        header=None)\n",
    "        \n",
    "    df.insert(\n",
    "        loc=0,\n",
    "        column='second',\n",
    "        value=seconds)\n",
    "        \n",
    "    df.to_parquet(\n",
    "        path=f'../data/partitions/{name}',\n",
    "        engine='fastparquet',\n",
    "        partition_cols=['second'])\n",
    "        "
   ]
  },
  {
   "cell_type": "code",
   "execution_count": null,
   "metadata": {},
   "outputs": [],
   "source": [
    "from joblib import Parallel, delayed\n",
    "\n",
    "fs = 512\n",
    "seconds = (pd.Series(range(0,(fs*20)))//fs + 1).to_list()\n",
    "\n",
    "Parallel(n_jobs=-1)(delayed(pipeline)(file, seconds) for file in files)"
   ]
  }
 ],
 "metadata": {
  "kernelspec": {
   "display_name": "Python 3.8.12 ('doutorado')",
   "language": "python",
   "name": "python3"
  },
  "language_info": {
   "codemirror_mode": {
    "name": "ipython",
    "version": 3
   },
   "file_extension": ".py",
   "mimetype": "text/x-python",
   "name": "python",
   "nbconvert_exporter": "python",
   "pygments_lexer": "ipython3",
   "version": "3.8.12"
  },
  "orig_nbformat": 4,
  "vscode": {
   "interpreter": {
    "hash": "744bae1ef8ed56e659058dcc1c94db4b39efdf7d0d6e0baf9338b85eac62eb10"
   }
  }
 },
 "nbformat": 4,
 "nbformat_minor": 2
}
