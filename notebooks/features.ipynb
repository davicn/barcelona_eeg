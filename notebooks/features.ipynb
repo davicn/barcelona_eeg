{
 "cells": [
  {
   "cell_type": "code",
   "execution_count": 9,
   "metadata": {},
   "outputs": [],
   "source": [
    "import pandas as pd\n",
    "import numpy as np"
   ]
  },
  {
   "cell_type": "code",
   "execution_count": 1,
   "metadata": {},
   "outputs": [],
   "source": [
    "from os import walk\n",
    "import os\n",
    "\n",
    "path = '/'.join(os.path.abspath(os.getcwd()).split('/')[:-1]) + '/data/partitions/'\n",
    "\n",
    "f = []\n",
    "\n",
    "for (dirpath, dirnames, filenames) in walk(path):\n",
    "    f.append(dirnames)\n",
    "\n"
   ]
  },
  {
   "cell_type": "code",
   "execution_count": 5,
   "metadata": {},
   "outputs": [],
   "source": [
    "files = f[0]"
   ]
  },
  {
   "cell_type": "code",
   "execution_count": 6,
   "metadata": {},
   "outputs": [],
   "source": [
    "def entropy(s):\n",
    "  return np.sum(np.log(s**2))\n",
    "\n",
    "\n",
    "def get_features(df:any, second:int) -> list:\n",
    "    k = (df[df['second']==second]\n",
    "    .loc[:,['x','y']]\n",
    "    .kurt(axis=0)\n",
    "    .to_dict())\n",
    "\n",
    "    v = (df[df['second']==second]\n",
    "    .loc[:,['x','y']]\n",
    "    .kurt(axis=0)\n",
    "    .to_dict())\n",
    "\n",
    "    s = (df[df['second']==second]\n",
    "    .loc[:,['x','y']]\n",
    "    .skew(axis=0)\n",
    "    .to_dict())\n",
    "\n",
    "    e = (df[df['second']==second]\n",
    "    .loc[:,['x','y']]\n",
    "    .apply(lambda x: entropy(x),axis=0)\n",
    "    .to_dict())\n",
    "\n",
    "    results = [\n",
    "        v['x'],v['y'],\n",
    "        s['x'],s['y'],\n",
    "        k['x'],k['y'],\n",
    "        e['x'],e['y'],\n",
    "        v['x'] + e['x'], v['y'] + e['y'],\n",
    "        k['x'] + e['x'], k['y'] + e['y'],\n",
    "        s['x'] + e['x'], s['y'] + e['y'],\n",
    "        v['x'] + s['x'], v['y'] + s['y'],\n",
    "        v['x'] + k['x'], v['y'] + k['y'],\n",
    "        k['x'] + s['x'], k['y'] + s['y']\n",
    "    ]\n",
    "\n",
    "    return results"
   ]
  },
  {
   "cell_type": "code",
   "execution_count": 7,
   "metadata": {},
   "outputs": [],
   "source": [
    "def pipeline(file:str) -> list:\n",
    "    cols = ['var_x','var_y',\n",
    "    'skew_x','skew_y',\n",
    "    'kur_x','kur_y',\n",
    "    'entropy_x','entropy_y',\n",
    "    'var_x+entropy_x','var_y+entropy_y',\n",
    "    'kur_x+entropy_x','kur_y+entropy_y',\n",
    "    'skew_x+entropy_x','skew_y+entropy_y',\n",
    "    'var_x+skew_x', 'var_y+skew_y',\n",
    "    'var_x+skew_x', 'var_y+skew_y',\n",
    "    'kur_x+skew_x', 'kur_y+skew_y']\n",
    "    \n",
    "    label = file.split('_')[1]\n",
    "\n",
    "    df = pd.read_parquet(f'../data/partitions/{file}/')\n",
    "\n",
    "    r = []\n",
    "    for second in df['second'].unique():\n",
    "        r.append(get_features(df, second))\n",
    "\n",
    "    d = pd.DataFrame(data=r,columns=cols).mean().to_dict()\n",
    "    d['label'] = label\n",
    "\n",
    "    \n",
    "\n",
    "    return d"
   ]
  },
  {
   "cell_type": "code",
   "execution_count": 10,
   "metadata": {},
   "outputs": [
    {
     "name": "stderr",
     "output_type": "stream",
     "text": [
      "/home/davi/.local/lib/python3.8/site-packages/pandas/core/arraylike.py:397: RuntimeWarning: divide by zero encountered in log\n",
      "  result = getattr(ufunc, method)(*inputs, **kwargs)\n"
     ]
    }
   ],
   "source": [
    "from joblib import Parallel, delayed\n",
    "\n",
    "\n",
    "results = Parallel(n_jobs=-1)(delayed(pipeline)(file) for file in files)"
   ]
  },
  {
   "cell_type": "code",
   "execution_count": 11,
   "metadata": {},
   "outputs": [],
   "source": [
    "df = pd.DataFrame(results)"
   ]
  },
  {
   "cell_type": "code",
   "execution_count": 12,
   "metadata": {},
   "outputs": [],
   "source": [
    "df.to_parquet('dataset.parquet')"
   ]
  }
 ],
 "metadata": {
  "kernelspec": {
   "display_name": "Python 3.8.10 64-bit",
   "language": "python",
   "name": "python3"
  },
  "language_info": {
   "codemirror_mode": {
    "name": "ipython",
    "version": 3
   },
   "file_extension": ".py",
   "mimetype": "text/x-python",
   "name": "python",
   "nbconvert_exporter": "python",
   "pygments_lexer": "ipython3",
   "version": "3.8.10"
  },
  "orig_nbformat": 4,
  "vscode": {
   "interpreter": {
    "hash": "916dbcbb3f70747c44a77c7bcd40155683ae19c65e1c03b4aa3499c5328201f1"
   }
  }
 },
 "nbformat": 4,
 "nbformat_minor": 2
}
